{
 "cells": [
  {
   "cell_type": "code",
   "execution_count": 1,
   "id": "1bcf0804",
   "metadata": {
    "ExecuteTime": {
     "end_time": "2023-02-26T16:01:53.488124Z",
     "start_time": "2023-02-26T16:01:49.939927Z"
    }
   },
   "outputs": [
    {
     "name": "stdout",
     "output_type": "stream",
     "text": [
      "        Date    Open    High     Low     Close    Volume   Adjusted\n",
      "0 2000-01-03  88.777  89.722  84.712  58.28125  53228400  38.527809\n",
      "1 2000-01-04  85.893  88.588  84.901  56.31250  54119000  37.226345\n",
      "2 2000-01-05  84.050  88.021  82.726  56.90625  64059600  37.618851\n",
      "3 2000-01-06  84.853  86.130  81.970  55.00000  54976600  36.358688\n",
      "4 2000-01-07  82.159  84.901  81.166  55.71875  62013600  36.833828\n"
     ]
    }
   ],
   "source": [
    "# Import pandas as pd\n",
    "import pandas as pd\n",
    "\n",
    "# Read in the csv file and parse dates\n",
    "StockPrices = pd.read_csv('MSFTPrices.csv', parse_dates=['Date'])\n",
    "\n",
    "# Ensure the prices are sorted by Date\n",
    "StockPrices = StockPrices.sort_values(by='Date')\n",
    "\n",
    "# Print only the first five rows of StockPrices\n",
    "print(StockPrices.head())"
   ]
  },
  {
   "cell_type": "code",
   "execution_count": 2,
   "id": "942e1eff",
   "metadata": {
    "ExecuteTime": {
     "end_time": "2023-02-26T16:01:57.078613Z",
     "start_time": "2023-02-26T16:01:53.493160Z"
    }
   },
   "outputs": [
    {
     "name": "stdout",
     "output_type": "stream",
     "text": [
      "        Date    Open    High     Low     Close    Volume   Adjusted   Returns\n",
      "0 2000-01-03  88.777  89.722  84.712  58.28125  53228400  38.527809       NaN\n",
      "1 2000-01-04  85.893  88.588  84.901  56.31250  54119000  37.226345 -0.033780\n",
      "2 2000-01-05  84.050  88.021  82.726  56.90625  64059600  37.618851  0.010544\n",
      "3 2000-01-06  84.853  86.130  81.970  55.00000  54976600  36.358688 -0.033498\n",
      "4 2000-01-07  82.159  84.901  81.166  55.71875  62013600  36.833828  0.013068\n"
     ]
    },
    {
     "data": {
      "image/png": "[encoded data removed]",
      "text/plain": [
       "<Figure size 432x288 with 1 Axes>"
      ]
     },
     "metadata": {
      "needs_background": "light"
     },
     "output_type": "display_data"
    }
   ],
   "source": [
    "# Calculate the daily returns of the adjusted close price\n",
    "import matplotlib.pyplot as plt\n",
    "StockPrices['Returns'] = StockPrices['Adjusted'].pct_change()\n",
    "\n",
    "# Check the first five rows of StockPrices\n",
    "print(StockPrices.head())\n",
    "\n",
    "# Plot the returns column over time\n",
    "StockPrices['Returns'].plot()\n",
    "plt.show()"
   ]
  },
  {
   "cell_type": "code",
   "execution_count": 3,
   "id": "fa3e192c",
   "metadata": {
    "ExecuteTime": {
     "end_time": "2023-02-26T16:01:57.564494Z",
     "start_time": "2023-02-26T16:01:57.081738Z"
    }
   },
   "outputs": [
    {
     "data": {
      "image/png": "[encoded data removed]",
      "text/plain": [
       "<Figure size 432x288 with 1 Axes>"
      ]
     },
     "metadata": {
      "needs_background": "light"
     },
     "output_type": "display_data"
    }
   ],
   "source": [
    "# Convert the decimal returns into percentage returns\n",
    "percent_return = StockPrices['Returns']*100\n",
    "\n",
    "# Drop the missing values\n",
    "returns_plot = percent_return.dropna()\n",
    "\n",
    "# Plot the returns histogram\n",
    "plt.hist(returns_plot, bins = 75)\n",
    "plt.show()"
   ]
  },
  {
   "cell_type": "markdown",
   "id": "c1c34331",
   "metadata": {},
   "source": [
    "#  Calculate the implied annualized average return"
   ]
  },
  {
   "cell_type": "code",
   "execution_count": 4,
   "id": "b308a2cb",
   "metadata": {
    "ExecuteTime": {
     "end_time": "2023-02-26T16:01:57.597581Z",
     "start_time": "2023-02-26T16:01:57.570979Z"
    }
   },
   "outputs": [
    {
     "name": "stdout",
     "output_type": "stream",
     "text": [
      "0.0003777754643575769\n",
      "0.09985839482852632\n"
     ]
    }
   ],
   "source": [
    "# Import numpy as np\n",
    "import numpy as np\n",
    "\n",
    "# Calculate the average daily return of the stock\n",
    "mean_return_daily = np.mean(StockPrices['Returns'])\n",
    "print(mean_return_daily)\n",
    "\n",
    "# Calculate the implied annualized average return\n",
    "mean_return_annualized = ((1+mean_return_daily)**252)-1\n",
    "print(mean_return_annualized)"
   ]
  },
  {
   "cell_type": "code",
   "execution_count": 5,
   "id": "0cea83a3",
   "metadata": {
    "ExecuteTime": {
     "end_time": "2023-02-26T16:01:57.631040Z",
     "start_time": "2023-02-26T16:01:57.603587Z"
    }
   },
   "outputs": [
    {
     "name": "stdout",
     "output_type": "stream",
     "text": [
      "0.019341100408708328\n",
      "0.0003740781650197374\n"
     ]
    }
   ],
   "source": [
    "sigma_daily = np.std(StockPrices['Returns'])\n",
    "print(sigma_daily)\n",
    "\n",
    "# Calculate the daily variance\n",
    "variance_daily = sigma_daily**2\n",
    "print(variance_daily)"
   ]
  },
  {
   "cell_type": "code",
   "execution_count": 6,
   "id": "aa5a8799",
   "metadata": {
    "ExecuteTime": {
     "end_time": "2023-02-26T16:01:57.654794Z",
     "start_time": "2023-02-26T16:01:57.635349Z"
    }
   },
   "outputs": [
    {
     "name": "stdout",
     "output_type": "stream",
     "text": [
      "0.3070304505826317\n",
      "0.09426769758497383\n"
     ]
    }
   ],
   "source": [
    "# Annualize the standard deviation\n",
    "sigma_annualized = sigma_daily*np.sqrt(252)\n",
    "print(sigma_annualized)\n",
    "\n",
    "# Calculate the annualized variance\n",
    "variance_annualized = sigma_annualized**2\n",
    "print(variance_annualized)"
   ]
  },
  {
   "cell_type": "code",
   "execution_count": 7,
   "id": "f2a224f4",
   "metadata": {
    "ExecuteTime": {
     "end_time": "2023-02-26T16:02:01.993509Z",
     "start_time": "2023-02-26T16:01:57.659063Z"
    }
   },
   "outputs": [
    {
     "name": "stdout",
     "output_type": "stream",
     "text": [
      "0.21935459193067805\n"
     ]
    }
   ],
   "source": [
    "# Import skew from scipy.stats\n",
    "from scipy.stats import skew\n",
    "\n",
    "# Drop the missing values\n",
    "clean_returns = StockPrices.Returns.dropna()\n",
    "\n",
    "# Calculate the third moment (skewness) of the returns distribution\n",
    "returns_skewness = skew(clean_returns)\n",
    "print(returns_skewness)"
   ]
  },
  {
   "cell_type": "code",
   "execution_count": 8,
   "id": "66d2e639",
   "metadata": {
    "ExecuteTime": {
     "end_time": "2023-02-26T16:02:02.017214Z",
     "start_time": "2023-02-26T16:02:01.998837Z"
    }
   },
   "outputs": [
    {
     "name": "stdout",
     "output_type": "stream",
     "text": [
      "10.314572618025519\n",
      "13.314572618025519\n"
     ]
    }
   ],
   "source": [
    "# Import kurtosis from scipy.stats\n",
    "from scipy.stats import kurtosis\n",
    "\n",
    "# Calculate the excess kurtosis of the returns distribution\n",
    "excess_kurtosis = kurtosis(clean_returns)\n",
    "print(excess_kurtosis)\n",
    "\n",
    "# Derive the true fourth moment of the returns distribution\n",
    "fourth_moment = excess_kurtosis + 3\n",
    "print(fourth_moment)"
   ]
  },
  {
   "cell_type": "markdown",
   "id": "cf0e9c16",
   "metadata": {},
   "source": [
    "# Тест на нормальность Шапиро-Уилк H0: распред нормальное"
   ]
  },
  {
   "cell_type": "code",
   "execution_count": 9,
   "id": "a21dc5c9",
   "metadata": {
    "ExecuteTime": {
     "end_time": "2023-02-26T16:02:02.048040Z",
     "start_time": "2023-02-26T16:02:02.022199Z"
    }
   },
   "outputs": [
    {
     "name": "stdout",
     "output_type": "stream",
     "text": [
      "Shapiro results: ShapiroResult(statistic=0.9003633260726929, pvalue=0.0)\n",
      "P-value:  0.0\n"
     ]
    }
   ],
   "source": [
    "# Import shapiro from scipy.stats\n",
    "from scipy.stats import shapiro\n",
    "\n",
    "# Run the Shapiro-Wilk test on the stock returns\n",
    "shapiro_results = shapiro(clean_returns)\n",
    "print(\"Shapiro results:\", shapiro_results)\n",
    "\n",
    "# Extract the p-value from the shapiro_results\n",
    "p_value = shapiro_results[1]\n",
    "print(\"P-value: \", p_value)"
   ]
  },
  {
   "cell_type": "code",
   "execution_count": 12,
   "id": "83fce0d1",
   "metadata": {
    "ExecuteTime": {
     "end_time": "2023-02-26T16:08:48.342342Z",
     "start_time": "2023-02-26T16:08:47.983454Z"
    }
   },
   "outputs": [
    {
     "data": {
      "image/png": "[encoded data removed]",
      "text/plain": [
       "<Figure size 432x288 with 1 Axes>"
      ]
     },
     "metadata": {
      "needs_background": "light"
     },
     "output_type": "display_data"
    }
   ],
   "source": [
    "# Finish defining the portfolio weights as a numpy array\n",
    "StockReturns = pd.read_csv('Big9Returns2017.csv', parse_dates = ['Date'], index_col = 'Date')\n",
    "portfolio_weights = np.array([0.12, 0.15, 0.08, 0.05, 0.09, 0.10, 0.11, 0.14, 0.16])\n",
    "\n",
    "# Calculate the weighted stock returns\n",
    "WeightedReturns = StockReturns.mul(portfolio_weights, axis=1)\n",
    "\n",
    "# Calculate the portfolio returns\n",
    "StockReturns['Portfolio'] = WeightedReturns.sum(axis=1)\n",
    "\n",
    "# Plot the cumulative portfolio returns over time\n",
    "CumulativeReturns = ((1+StockReturns[\"Portfolio\"]).cumprod()-1)\n",
    "CumulativeReturns.plot()\n",
    "plt.show()"
   ]
  },
  {
   "cell_type": "markdown",
   "id": "1cd78a86",
   "metadata": {},
   "source": [
    "# Equal weighted portfolios"
   ]
  },
  {
   "cell_type": "markdown",
   "id": "039c6008",
   "metadata": {},
   "source": [
    "When comparing different portfolios, you often want to consider performance versus a naive equally-weighted portfolio. If the portfolio doesn't outperform a simple equally weighted portfolio, you might want to consider another strategy, or simply opt for the naive approach if all else fails. You can expect equally-weighted portfolios to tend to outperform the market when the largest companies are doing poorly. This is because even tiny companies would have the same weight in your equally-weighted portfolio as Apple or Amazon, for example."
   ]
  },
  {
   "cell_type": "code",
   "execution_count": 23,
   "id": "58aa9b31",
   "metadata": {
    "ExecuteTime": {
     "end_time": "2023-02-26T16:17:51.231660Z",
     "start_time": "2023-02-26T16:17:50.855424Z"
    }
   },
   "outputs": [
    {
     "data": {
      "text/plain": [
       "<AxesSubplot:xlabel='Date'>"
      ]
     },
     "execution_count": 23,
     "metadata": {},
     "output_type": "execute_result"
    },
    {
     "data": {
      "image/png": "[encoded data removed]",
      "text/plain": [
       "<Figure size 432x288 with 1 Axes>"
      ]
     },
     "metadata": {
      "needs_background": "light"
     },
     "output_type": "display_data"
    }
   ],
   "source": [
    "# How many stocks are in your portfolio?\n",
    "numstocks = 9 \n",
    "\n",
    "# Create an array of equal weights across all assets\n",
    "portfolio_weights_ew = np.repeat(1/numstocks, numstocks)\n",
    "\n",
    "# Calculate the equally-weighted portfolio returns\n",
    "StockReturns['Portfolio_EW'] = StockReturns.iloc[:, 0:numstocks].mul(portfolio_weights_ew, axis=1).sum(axis=1)\n",
    "StockReturns['CUM_port'] = ((1+StockReturns[\"Portfolio\"]).cumprod()-1)\n",
    "StockReturns['CUM_EW'] = ((1+StockReturns[\"Portfolio_EW\"]).cumprod()-1)\n",
    "StockReturns.CUM_EW.plot()\n",
    "StockReturns.CUM_port.plot()"
   ]
  },
  {
   "cell_type": "markdown",
   "id": "3c82bd68",
   "metadata": {},
   "source": [
    "# Market cap weighted"
   ]
  },
  {
   "cell_type": "code",
   "execution_count": 29,
   "id": "ba3059c7",
   "metadata": {
    "ExecuteTime": {
     "end_time": "2023-02-26T16:24:32.422797Z",
     "start_time": "2023-02-26T16:24:32.401757Z"
    }
   },
   "outputs": [],
   "source": [
    "# Create an array of market capitalizations (in billions)\n",
    "market_capitalizations = np.array([601.51, 469.25, 349.5, 310.48, 299.77, 356.94, 268.88, 331.57, 246.09])\n",
    "\n",
    "# Calculate the market cap weights\n",
    "mcap_weights = np.apply_along_axis(func1d = lambda x : x/np.sum(market_capitalizations), axis =0, arr = market_capitalizations)\n",
    "StockReturns['Portfolio_MCap'] = StockReturns.iloc[:, 0:9].mul(mcap_weights, axis=1).sum(axis=1)\n"
   ]
  },
  {
   "cell_type": "code",
   "execution_count": 34,
   "id": "a8b48751",
   "metadata": {
    "ExecuteTime": {
     "end_time": "2023-02-26T16:35:31.153972Z",
     "start_time": "2023-02-26T16:35:30.120691Z"
    }
   },
   "outputs": [
    {
     "data": {
      "text/plain": [
       "<AxesSubplot:>"
      ]
     },
     "execution_count": 34,
     "metadata": {},
     "output_type": "execute_result"
    },
    {
     "data": {
      "image/png": "[encoded data removed]",
      "text/plain": [
       "<Figure size 432x288 with 2 Axes>"
      ]
     },
     "metadata": {
      "needs_background": "light"
     },
     "output_type": "display_data"
    }
   ],
   "source": [
    "# Calculate the correlation matrix\n",
    "import seaborn as sns\n",
    "StockReturns = pd.read_csv('Big9Returns2017.csv', parse_dates = ['Date'], index_col = 'Date')\n",
    "correlation_matrix = StockReturns.corr()\n",
    "# Create a heatmap\n",
    "sns.heatmap(correlation_matrix,\n",
    "            annot=True,\n",
    "            cmap=\"YlGnBu\", \n",
    "            linewidths=0.3,\n",
    "            annot_kws={\"size\": 8})"
   ]
  },
  {
   "cell_type": "code",
   "execution_count": 35,
   "id": "9f519f8b",
   "metadata": {
    "ExecuteTime": {
     "end_time": "2023-02-26T16:38:04.034353Z",
     "start_time": "2023-02-26T16:38:03.979615Z"
    }
   },
   "outputs": [],
   "source": [
    "# Calculate the covariance matrix\n",
    "cov_mat = StockReturns.cov()\n",
    "\n",
    "# Annualize the co-variance matrix\n",
    "cov_mat_annual = cov_mat*252"
   ]
  },
  {
   "cell_type": "code",
   "execution_count": 37,
   "id": "d4bbd26b",
   "metadata": {
    "ExecuteTime": {
     "end_time": "2023-02-26T16:39:02.474750Z",
     "start_time": "2023-02-26T16:39:02.463083Z"
    }
   },
   "outputs": [
    {
     "name": "stdout",
     "output_type": "stream",
     "text": [
      "0.08931417642713793\n"
     ]
    }
   ],
   "source": [
    "# Calculate the portfolio standard deviation\n",
    "portfolio_volatility = np.sqrt(np.dot(portfolio_weights.T, np.dot(cov_mat_annual, portfolio_weights)))\n",
    "print(portfolio_volatility)"
   ]
  },
  {
   "cell_type": "markdown",
   "id": "23caf5eb",
   "metadata": {},
   "source": [
    "# Пусть у нас есть много портфелей с разными доходностями и волатильностями, как их сравнить? Для этой цели используют коэфицент шарпа"
   ]
  },
  {
   "cell_type": "markdown",
   "id": "6f84590c",
   "metadata": {},
   "source": [
    "Since its revision by the original author, William Sharpe, in 1994,[2] the ex-ante Sharpe ratio is defined as:\n",
    "$S_a = \\frac{R_a-r_f}{\\sigma_a} $ where $r_f$ - risk free return, $R_a$ - portfolio return"
   ]
  },
  {
   "cell_type": "markdown",
   "id": "f077aca0",
   "metadata": {},
   "source": [
    "# MSR vs GMV portfolios ."
   ]
  },
  {
   "cell_type": "markdown",
   "id": "2c25505d",
   "metadata": {},
   "source": [
    "# Идея в том чтобы нагенерить рандомных чисел в качетве коэфов портфеля и посмотреть на шарпы. Всегда есть портфель который максимизирует шарп - это MSR портфель. GBV - минимизирует волатильность"
   ]
  },
  {
   "cell_type": "markdown",
   "id": "984c5165",
   "metadata": {},
   "source": [
    "# CAPM - модель Portfolio_excess_return = beta*Market_index_excess return\n"
   ]
  },
  {
   "cell_type": "markdown",
   "id": "fcc15429",
   "metadata": {},
   "source": [
    "# Excess_return = return - risk_free"
   ]
  },
  {
   "cell_type": "markdown",
   "id": "b912f3de",
   "metadata": {},
   "source": [
    "# beta находится по формулам МНК"
   ]
  },
  {
   "cell_type": "code",
   "execution_count": 42,
   "id": "49be2bb6",
   "metadata": {
    "ExecuteTime": {
     "end_time": "2023-02-26T18:17:13.618327Z",
     "start_time": "2023-02-26T18:17:13.558560Z"
    }
   },
   "outputs": [
    {
     "data": {
      "text/html": [
       "<div>\n",
       "<style scoped>\n",
       "    .dataframe tbody tr th:only-of-type {\n",
       "        vertical-align: middle;\n",
       "    }\n",
       "\n",
       "    .dataframe tbody tr th {\n",
       "        vertical-align: top;\n",
       "    }\n",
       "\n",
       "    .dataframe thead th {\n",
       "        text-align: right;\n",
       "    }\n",
       "</style>\n",
       "<table border=\"1\" class=\"dataframe\">\n",
       "  <thead>\n",
       "    <tr style=\"text-align: right;\">\n",
       "      <th></th>\n",
       "      <th>Portfolio</th>\n",
       "      <th>Market_Excess</th>\n",
       "      <th>SMB</th>\n",
       "      <th>HML</th>\n",
       "      <th>RMW</th>\n",
       "      <th>CMA</th>\n",
       "      <th>RF</th>\n",
       "    </tr>\n",
       "    <tr>\n",
       "      <th>Date</th>\n",
       "      <th></th>\n",
       "      <th></th>\n",
       "      <th></th>\n",
       "      <th></th>\n",
       "      <th></th>\n",
       "      <th></th>\n",
       "      <th></th>\n",
       "    </tr>\n",
       "  </thead>\n",
       "  <tbody>\n",
       "    <tr>\n",
       "      <th>2013-01-03</th>\n",
       "      <td>-0.005066</td>\n",
       "      <td>-0.0014</td>\n",
       "      <td>0.0014</td>\n",
       "      <td>0.0004</td>\n",
       "      <td>0.0020</td>\n",
       "      <td>0.0023</td>\n",
       "      <td>0.0</td>\n",
       "    </tr>\n",
       "    <tr>\n",
       "      <th>2013-01-04</th>\n",
       "      <td>0.004024</td>\n",
       "      <td>0.0055</td>\n",
       "      <td>0.0019</td>\n",
       "      <td>0.0043</td>\n",
       "      <td>-0.0037</td>\n",
       "      <td>0.0027</td>\n",
       "      <td>0.0</td>\n",
       "    </tr>\n",
       "    <tr>\n",
       "      <th>2013-01-07</th>\n",
       "      <td>0.004421</td>\n",
       "      <td>-0.0031</td>\n",
       "      <td>-0.0009</td>\n",
       "      <td>-0.0037</td>\n",
       "      <td>-0.0013</td>\n",
       "      <td>-0.0012</td>\n",
       "      <td>0.0</td>\n",
       "    </tr>\n",
       "    <tr>\n",
       "      <th>2013-01-08</th>\n",
       "      <td>-0.004659</td>\n",
       "      <td>-0.0027</td>\n",
       "      <td>0.0004</td>\n",
       "      <td>-0.0007</td>\n",
       "      <td>-0.0012</td>\n",
       "      <td>0.0009</td>\n",
       "      <td>0.0</td>\n",
       "    </tr>\n",
       "    <tr>\n",
       "      <th>2013-01-09</th>\n",
       "      <td>0.004636</td>\n",
       "      <td>0.0034</td>\n",
       "      <td>0.0024</td>\n",
       "      <td>-0.0041</td>\n",
       "      <td>-0.0007</td>\n",
       "      <td>-0.0015</td>\n",
       "      <td>0.0</td>\n",
       "    </tr>\n",
       "  </tbody>\n",
       "</table>\n",
       "</div>"
      ],
      "text/plain": [
       "            Portfolio  Market_Excess     SMB     HML     RMW     CMA   RF\n",
       "Date                                                                     \n",
       "2013-01-03  -0.005066        -0.0014  0.0014  0.0004  0.0020  0.0023  0.0\n",
       "2013-01-04   0.004024         0.0055  0.0019  0.0043 -0.0037  0.0027  0.0\n",
       "2013-01-07   0.004421        -0.0031 -0.0009 -0.0037 -0.0013 -0.0012  0.0\n",
       "2013-01-08  -0.004659        -0.0027  0.0004 -0.0007 -0.0012  0.0009  0.0\n",
       "2013-01-09   0.004636         0.0034  0.0024 -0.0041 -0.0007 -0.0015  0.0"
      ]
     },
     "execution_count": 42,
     "metadata": {},
     "output_type": "execute_result"
    }
   ],
   "source": [
    "FamaFrenchData = pd.read_csv('FamaFrenchFactors.csv', parse_dates = ['Date'], index_col = 'Date')\n",
    "FamaFrenchData.head()"
   ]
  },
  {
   "cell_type": "code",
   "execution_count": 51,
   "id": "232417ef",
   "metadata": {
    "ExecuteTime": {
     "end_time": "2023-02-26T18:33:56.051486Z",
     "start_time": "2023-02-26T18:33:55.630898Z"
    }
   },
   "outputs": [
    {
     "data": {
      "image/png": "[encoded data removed]",
      "text/plain": [
       "<Figure size 1080x720 with 1 Axes>"
      ]
     },
     "metadata": {
      "needs_background": "light"
     },
     "output_type": "display_data"
    }
   ],
   "source": [
    "# Calculate excess portfolio returns\n",
    "FamaFrenchData['Portfolio_Excess'] = FamaFrenchData.Portfolio - FamaFrenchData.RF\n",
    "fig, ax = plt.subplots(figsize=(15,10))\n",
    "# Plot returns vs excess returns\n",
    "CumulativeReturns = ((1+FamaFrenchData[['Portfolio','Portfolio_Excess']]).cumprod()-1)\n",
    "CumulativeReturns.plot(ax=ax)\n",
    "plt.show()"
   ]
  },
  {
   "cell_type": "code",
   "execution_count": 52,
   "id": "c417996e",
   "metadata": {
    "ExecuteTime": {
     "end_time": "2023-02-26T18:35:48.362945Z",
     "start_time": "2023-02-26T18:35:48.343075Z"
    }
   },
   "outputs": [
    {
     "name": "stdout",
     "output_type": "stream",
     "text": [
      "5.726126338154967e-05\n",
      "5.8803350882118946e-05\n",
      "0.9737755165745461\n"
     ]
    }
   ],
   "source": [
    "# Calculate the co-variance matrix between Portfolio_Excess and Market_Excess\n",
    "covariance_matrix = FamaFrenchData[['Portfolio_Excess', 'Market_Excess']].cov()\n",
    "\n",
    "# Extract the co-variance co-efficient\n",
    "covariance_coefficient = covariance_matrix.iloc[0, 1]\n",
    "print(covariance_coefficient)\n",
    "\n",
    "# Calculate the benchmark variance\n",
    "benchmark_variance = FamaFrenchData['Market_Excess'].var()\n",
    "print(benchmark_variance)\n",
    "\n",
    "# Calculating the portfolio market beta\n",
    "portfolio_beta = covariance_coefficient/benchmark_variance\n",
    "print(portfolio_beta)"
   ]
  },
  {
   "cell_type": "code",
   "execution_count": 53,
   "id": "13f591bf",
   "metadata": {
    "ExecuteTime": {
     "end_time": "2023-02-26T18:41:31.407689Z",
     "start_time": "2023-02-26T18:41:30.789593Z"
    }
   },
   "outputs": [
    {
     "name": "stdout",
     "output_type": "stream",
     "text": [
      "0.7942627160017839\n",
      "0.9737755165745462\n"
     ]
    }
   ],
   "source": [
    "# Import statsmodels.formula.api\n",
    "import statsmodels.formula.api as smf \n",
    "\n",
    "# Define the regression formula\n",
    "CAPM_model = smf.ols(formula='Portfolio_Excess ~ Market_Excess', data=FamaFrenchData)\n",
    "\n",
    "# Print adjusted r-squared of the fitted regression\n",
    "CAPM_fit = CAPM_model.fit()\n",
    "print(CAPM_fit.rsquared_adj)\n",
    "\n",
    "# Extract the beta\n",
    "regression_beta = CAPM_fit.params['Market_Excess']\n",
    "print(regression_beta)"
   ]
  },
  {
   "cell_type": "markdown",
   "id": "8ae1090b",
   "metadata": {},
   "source": [
    "# FAMA - FENCH 3 factor model beta + SMB(Small - BIG) + HML(High - Low) + intercept(alpha)"
   ]
  },
  {
   "cell_type": "markdown",
   "id": "cd00d6f9",
   "metadata": {},
   "source": [
    "# Та же регрессия но с 2 доп параметрами \n"
   ]
  },
  {
   "cell_type": "code",
   "execution_count": 54,
   "id": "5e99abab",
   "metadata": {
    "ExecuteTime": {
     "end_time": "2023-02-26T18:57:48.317206Z",
     "start_time": "2023-02-26T18:57:48.240013Z"
    }
   },
   "outputs": [
    {
     "name": "stdout",
     "output_type": "stream",
     "text": [
      "0.8193910088585152\n"
     ]
    }
   ],
   "source": [
    "# Import statsmodels.formula.api\n",
    "import statsmodels.formula.api as smf \n",
    "\n",
    "# Define the regression formula\n",
    "FamaFrench_model = smf.ols(formula='Portfolio_Excess ~ Market_Excess + SMB + HML', data=FamaFrenchData)\n",
    "\n",
    "# Fit the regression\n",
    "FamaFrench_fit = FamaFrench_model.fit()\n",
    "\n",
    "# Extract the adjusted r-squared\n",
    "regression_adj_rsq = FamaFrench_fit.rsquared_adj\n",
    "print(regression_adj_rsq)"
   ]
  },
  {
   "cell_type": "code",
   "execution_count": 55,
   "id": "08bc6d48",
   "metadata": {
    "ExecuteTime": {
     "end_time": "2023-02-26T19:18:27.071970Z",
     "start_time": "2023-02-26T19:18:27.051024Z"
    }
   },
   "outputs": [
    {
     "name": "stdout",
     "output_type": "stream",
     "text": [
      "The SMB coefficient is  -0.26215152743192616  and is  significant\n"
     ]
    }
   ],
   "source": [
    "# Extract the p-value of the SMB factor\n",
    "smb_pval = FamaFrench_fit.pvalues['SMB']\n",
    "\n",
    "# If the p-value is significant, print significant\n",
    "if smb_pval < 0.05:\n",
    "    significant_msg = 'significant'\n",
    "else:\n",
    "    significant_msg = 'not significant'\n",
    "\n",
    "# Print the SMB coefficient\n",
    "smb_coeff = FamaFrench_fit.params['SMB']\n",
    "print(\"The SMB coefficient is \", smb_coeff, \" and is \", significant_msg)"
   ]
  },
  {
   "cell_type": "code",
   "execution_count": 57,
   "id": "02bd8703",
   "metadata": {
    "ExecuteTime": {
     "end_time": "2023-02-26T19:23:24.789725Z",
     "start_time": "2023-02-26T19:23:24.728907Z"
    }
   },
   "outputs": [
    {
     "name": "stdout",
     "output_type": "stream",
     "text": [
      "0.00018326665203183045\n",
      "0.04726181730280854\n"
     ]
    }
   ],
   "source": [
    "portfolio_alpha = FamaFrench_fit.params['Intercept']\n",
    "print(portfolio_alpha)\n",
    "\n",
    "# Annualize your portfolio alpha\n",
    "portfolio_alpha_annualized = (1+portfolio_alpha)**252-1\n",
    "print(portfolio_alpha_annualized)"
   ]
  },
  {
   "cell_type": "markdown",
   "id": "bb4be6b8",
   "metadata": {},
   "source": [
    "# 5 factor model"
   ]
  },
  {
   "cell_type": "code",
   "execution_count": 58,
   "id": "9694a93e",
   "metadata": {
    "ExecuteTime": {
     "end_time": "2023-02-26T19:28:29.381911Z",
     "start_time": "2023-02-26T19:28:29.333069Z"
    }
   },
   "outputs": [
    {
     "name": "stdout",
     "output_type": "stream",
     "text": [
      "0.8367245019225793\n"
     ]
    }
   ],
   "source": [
    "# Import statsmodels.formula.api\n",
    "import statsmodels.formula.api as smf \n",
    "\n",
    "# Define the regression formula\n",
    "FamaFrench5_model = smf.ols(formula='Portfolio_Excess ~ Market_Excess + SMB + HML + RMW + CMA ', data=FamaFrenchData)\n",
    "\n",
    "# Fit the regression\n",
    "FamaFrench5_fit = FamaFrench5_model.fit()\n",
    "\n",
    "# Extract the adjusted r-squared\n",
    "regression_adj_rsq = FamaFrench5_fit.rsquared_adj\n",
    "print(regression_adj_rsq)"
   ]
  },
  {
   "cell_type": "markdown",
   "id": "2ec84411",
   "metadata": {},
   "source": [
    "# Historical drawdown "
   ]
  },
  {
   "cell_type": "markdown",
   "id": "256a9ad3",
   "metadata": {},
   "source": [
    "$HD =\\frac{r_t}{RM} - 1 $ где RM - текущий максимум HD показывают просадку от лучшего результата"
   ]
  },
  {
   "cell_type": "code",
   "execution_count": 66,
   "id": "26580ed0",
   "metadata": {
    "ExecuteTime": {
     "end_time": "2023-02-26T20:32:30.115496Z",
     "start_time": "2023-02-26T20:32:29.931824Z"
    }
   },
   "outputs": [
    {
     "name": "stdout",
     "output_type": "stream",
     "text": [
      "-3.608233764037496\n"
     ]
    },
    {
     "data": {
      "image/png": "[encoded data removed]",
      "text/plain": [
       "<Figure size 432x288 with 1 Axes>"
      ]
     },
     "metadata": {
      "needs_background": "light"
     },
     "output_type": "display_data"
    }
   ],
   "source": [
    "data = pd.read_csv('USO.csv', parse_dates = ['Date'], index_col = 'Date')\n",
    "data['StockReturns_perc'] = data.USO.mul(100)\n",
    "StockReturns_perc = data.StockReturns_perc\n",
    "# Calculate historical VaR(95)\n",
    "var_95 = np.percentile(StockReturns_perc, 5)\n",
    "print(var_95)\n",
    "\n",
    "# Sort the returns for plotting\n",
    "sorted_rets = StockReturns_perc.sort_values(ascending = True)\n",
    "\n",
    "# Plot the probability of each sorted return quantile\n",
    "plt.hist(sorted_rets, density=True, bins =50, stacked=True)\n",
    "\n",
    "# Denote the VaR 95 quantile\n",
    "plt.axvline(x=var_95, color='r', linestyle='-', label=\"VaR 95: {0:.2f}%\".format(var_95))\n",
    "plt.show()"
   ]
  },
  {
   "cell_type": "markdown",
   "id": "d429a411",
   "metadata": {
    "ExecuteTime": {
     "end_time": "2023-02-26T20:31:54.415429Z",
     "start_time": "2023-02-26T20:31:54.376826Z"
    }
   },
   "source": [
    "# Expected Shortfall, otherwise known as CVaR, or conditional value at risk, is simply the expected loss of the worst case scenarios of returns."
   ]
  },
  {
   "cell_type": "code",
   "execution_count": 68,
   "id": "c72ed820",
   "metadata": {
    "ExecuteTime": {
     "end_time": "2023-02-26T20:36:51.267234Z",
     "start_time": "2023-02-26T20:36:51.107742Z"
    }
   },
   "outputs": [
    {
     "name": "stdout",
     "output_type": "stream",
     "text": [
      "-5.054143158346779\n"
     ]
    },
    {
     "data": {
      "image/png": "[encoded data removed]",
      "text/plain": [
       "<Figure size 432x288 with 1 Axes>"
      ]
     },
     "metadata": {
      "needs_background": "light"
     },
     "output_type": "display_data"
    }
   ],
   "source": [
    "# Historical CVaR 95\n",
    "cvar_95 = np.mean(StockReturns_perc[StockReturns_perc < var_95])\n",
    "print(cvar_95)\n",
    "\n",
    "# Sort the returns for plotting\n",
    "sorted_rets = sorted(StockReturns_perc)\n",
    "\n",
    "# Plot the probability of each return quantile\n",
    "plt.hist(sorted_rets, density=True, bins = 50, stacked=True)\n",
    "\n",
    "# Denote the VaR 95 and CVaR 95 quantiles\n",
    "plt.axvline(x=var_95, color=\"r\", linestyle=\"-\", label='VaR 95: {0:.2f}%'.format(var_95))\n",
    "plt.axvline(x=cvar_95, color='b', linestyle='-', label='CVaR 95: {0:.2f}%'.format(cvar_95))\n",
    "plt.show()"
   ]
  },
  {
   "cell_type": "markdown",
   "id": "e8576e58",
   "metadata": {},
   "source": [
    "# Var scaling square root!!!!"
   ]
  },
  {
   "cell_type": "code",
   "execution_count": 71,
   "id": "6ea8fb86",
   "metadata": {
    "ExecuteTime": {
     "end_time": "2023-02-26T20:49:25.761580Z",
     "start_time": "2023-02-26T20:49:25.717034Z"
    }
   },
   "outputs": [
    {
     "name": "stdout",
     "output_type": "stream",
     "text": [
      "Mean:  AAPL    0.001637\n",
      "MSFT    0.001405\n",
      "XOM    -0.000130\n",
      "JNJ     0.000897\n",
      "JPM     0.000997\n",
      "AMZN    0.001856\n",
      "GE     -0.002152\n",
      "FB      0.001763\n",
      "T      -0.000106\n",
      "dtype: float64 \n",
      "Volatility:  AAPL    0.011068\n",
      "MSFT    0.009306\n",
      "XOM     0.007029\n",
      "JNJ     0.007194\n",
      "JPM     0.010209\n",
      "AMZN    0.013181\n",
      "GE      0.012458\n",
      "FB      0.010694\n",
      "T       0.010675\n",
      "dtype: float64 \n",
      "VaR(95):  [-0.0165694  -0.01390218 -0.01169161 -0.01093551 -0.01579565 -0.01982375\n",
      " -0.02264449 -0.01582797 -0.01766494]\n"
     ]
    }
   ],
   "source": [
    "# Import norm from scipy.stats\n",
    "from scipy.stats import norm\n",
    "\n",
    "# Estimate the average daily return\n",
    "mu = np.mean(StockReturns)\n",
    "\n",
    "# Estimate the daily volatility\n",
    "vol = np.std(StockReturns)\n",
    "\n",
    "# Set the VaR confidence level\n",
    "confidence_level = 0.05\n",
    "\n",
    "# Calculate Parametric VaR\n",
    "var_95 = norm.ppf(confidence_level, mu, vol)\n",
    "print('Mean: ', str(mu), '\\nVolatility: ', str(vol), '\\nVaR(95): ', str(var_95))"
   ]
  },
  {
   "cell_type": "code",
   "execution_count": 90,
   "id": "b2172b2b",
   "metadata": {
    "ExecuteTime": {
     "end_time": "2023-02-26T20:57:09.177703Z",
     "start_time": "2023-02-26T20:57:09.060545Z"
    }
   },
   "outputs": [
    {
     "data": {
      "text/plain": [
       "[<matplotlib.lines.Line2D at 0x2954a9c1cd0>]"
      ]
     },
     "execution_count": 90,
     "metadata": {},
     "output_type": "execute_result"
    },
    {
     "data": {
      "image/png": "[encoded data removed]",
      "text/plain": [
       "<Figure size 432x288 with 1 Axes>"
      ]
     },
     "metadata": {
      "needs_background": "light"
     },
     "output_type": "display_data"
    }
   ],
   "source": [
    "# Aggregate forecasted VaR\n",
    "forecasted_values = np.empty([100, 2])\n",
    "\n",
    "# Loop through each forecast period\n",
    "for i in range(100):\n",
    "    # Save the time horizon i\n",
    "    forecasted_values[i, 0] = i\n",
    "    # Save the forecasted VaR 95\n",
    "    forecasted_values[i, 1] = var_95[0]*np.sqrt(i+1)\n",
    "    \n",
    "x = forecasted_values[:,0]\n",
    "y = forecasted_values[:,1][::-1]\n",
    "plt.plot(y)"
   ]
  },
  {
   "cell_type": "code",
   "execution_count": null,
   "id": "36813bd8",
   "metadata": {},
   "outputs": [],
   "source": []
  }
 ],
 "metadata": {
  "kernelspec": {
   "display_name": "Python 3 (ipykernel)",
   "language": "python",
   "name": "python3"
  },
  "language_info": {
   "codemirror_mode": {
    "name": "ipython",
    "version": 3
   },
   "file_extension": ".py",
   "mimetype": "text/x-python",
   "name": "python",
   "nbconvert_exporter": "python",
   "pygments_lexer": "ipython3",
   "version": "3.9.12"
  }
 },
 "nbformat": 4,
 "nbformat_minor": 5
}
